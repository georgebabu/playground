{
 "cells": [
  {
   "cell_type": "markdown",
   "metadata": {},
   "source": [
    "# Using VGG to pick an object"
   ]
  },
  {
   "cell_type": "markdown",
   "metadata": {},
   "source": [
    "### Challenge\n",
    "How would you apply a CNN (like VGG) to recognize an object to be picked by a UR5 arm?\n",
    "\n",
    "The challenges include:\n",
    "* differentiating different types of objects (some partially or fully occluded)\n",
    "* locating the bar code\n",
    "* manipulating objects (one or more) until you find the right object\n",
    "* manipulating an object until you find the bar code\n",
    "* once you've decided which object to pick, how do you pick it?\n",
    "\n",
    "### Use cases\n",
    "* Several similar objects are in a bin. Individual objects need to be sorted out into different orders.\n",
    "* Several different objects are in a bin. A subset needs to be sorted out into an order. Take one at a time, recognize it, then decide where it goes. \n",
    "* Alternative, search and find objects pertaining to an order, completing one order at a time.\n",
    "\n",
    "### Simplifying the problem\n",
    "Ways to simplify the problem:\n",
    "* All the objects are the same (Singulation task)\n",
    "* All objects are spread out so edges are easy to detect and no object is occluded\n",
    "* Once an object is grasped, scan all around the object looking for the bar code\n",
    "\n",
    "### Ways to tackle the problem\n",
    "VGG can't do segmentation well. It expects reasonably clean images. Given that the arm can move around, you could have the arm move object to object to preposition above it, take an image, classify it, and then decide whether to move to the next one.\n",
    "\n",
    "Assuming all objects aren't occluded, segment the image, categorize the objects in the image, check which category you've been asked to pick, move towards it, take a new image, close up and use it to predict category. \n",
    "\n",
    "### Questions\n",
    "What training data is needed? What labels do they need? How do you collect the data?\n",
    "How would you use DRL here? RNNs?"
   ]
  },
  {
   "cell_type": "code",
   "execution_count": null,
   "metadata": {
    "collapsed": true
   },
   "outputs": [],
   "source": []
  }
 ],
 "metadata": {
  "anaconda-cloud": {},
  "kernelspec": {
   "display_name": "Python [default]",
   "language": "python",
   "name": "python2"
  },
  "language_info": {
   "codemirror_mode": {
    "name": "ipython",
    "version": 2
   },
   "file_extension": ".py",
   "mimetype": "text/x-python",
   "name": "python",
   "nbconvert_exporter": "python",
   "pygments_lexer": "ipython2",
   "version": "2.7.12"
  }
 },
 "nbformat": 4,
 "nbformat_minor": 1
}
